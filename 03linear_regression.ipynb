{
  "nbformat": 4,
  "nbformat_minor": 0,
  "metadata": {
    "colab": {
      "name": "03linear_regression.ipynb",
      "provenance": [],
      "collapsed_sections": []
    },
    "kernelspec": {
      "name": "python3",
      "display_name": "Python 3"
    },
    "language_info": {
      "name": "python"
    }
  },
  "cells": [
    {
      "cell_type": "markdown",
      "metadata": {
        "id": "RptQUdwqY5QU"
      },
      "source": [
        "Задание 1"
      ]
    },
    {
      "cell_type": "code",
      "metadata": {
        "id": "_FH0-xtC3ptw"
      },
      "source": [
        "import numpy as np\n",
        "import matplotlib.pyplot as plt"
      ],
      "execution_count": 70,
      "outputs": []
    },
    {
      "cell_type": "code",
      "metadata": {
        "id": "JfcSMIFt36Xe"
      },
      "source": [
        "y = np.array([12.19, 8.41, 14.68, 8.64, 32.94, 22.61, 45.92, 23.63, 18.59, 36.22, 50.10, 46.22, 23.63, 47.30, 40.03, 56.53, 38.41, 51.47, 6.29, 35.41, 67.79, 74.21, 79.12, 45.10])\n",
        "x = np.linspace(0, 1, num = 24)"
      ],
      "execution_count": 71,
      "outputs": []
    },
    {
      "cell_type": "code",
      "metadata": {
        "colab": {
          "base_uri": "https://localhost:8080/"
        },
        "id": "lJret7UNX9uA",
        "outputId": "de15b4eb-52f2-4124-ebe1-76f103fddc6a"
      },
      "source": [
        "x"
      ],
      "execution_count": 72,
      "outputs": [
        {
          "output_type": "execute_result",
          "data": {
            "text/plain": [
              "array([0.        , 0.04347826, 0.08695652, 0.13043478, 0.17391304,\n",
              "       0.2173913 , 0.26086957, 0.30434783, 0.34782609, 0.39130435,\n",
              "       0.43478261, 0.47826087, 0.52173913, 0.56521739, 0.60869565,\n",
              "       0.65217391, 0.69565217, 0.73913043, 0.7826087 , 0.82608696,\n",
              "       0.86956522, 0.91304348, 0.95652174, 1.        ])"
            ]
          },
          "metadata": {},
          "execution_count": 72
        }
      ]
    },
    {
      "cell_type": "code",
      "metadata": {
        "colab": {
          "base_uri": "https://localhost:8080/",
          "height": 265
        },
        "id": "wIS6RF16XeVW",
        "outputId": "e09cb3e7-58d9-499d-8e30-ef572e0b24b5"
      },
      "source": [
        "plt.scatter(x, y);"
      ],
      "execution_count": 73,
      "outputs": [
        {
          "output_type": "display_data",
          "data": {
            "image/png": "[encoded data removed]",
            "text/plain": [
              "<Figure size 432x288 with 1 Axes>"
            ]
          },
          "metadata": {
            "needs_background": "light"
          }
        }
      ]
    },
    {
      "cell_type": "markdown",
      "metadata": {
        "id": "LgC91HB9yHuS"
      },
      "source": [
        "Полином второй степени"
      ]
    },
    {
      "cell_type": "code",
      "metadata": {
        "id": "yvmUcp2QXmIZ"
      },
      "source": [
        "X = list(zip(np.ones(24), x, x*x))"
      ],
      "execution_count": 74,
      "outputs": []
    },
    {
      "cell_type": "code",
      "metadata": {
        "id": "CA088LolX45-"
      },
      "source": [
        "W = np.linalg.lstsq(X, y, rcond=None)[0]"
      ],
      "execution_count": 75,
      "outputs": []
    },
    {
      "cell_type": "code",
      "metadata": {
        "colab": {
          "base_uri": "https://localhost:8080/"
        },
        "id": "Wn_9AbvrYHQr",
        "outputId": "b96f4838-7a04-40af-a80d-d47a23bf1ada"
      },
      "source": [
        "W"
      ],
      "execution_count": 76,
      "outputs": [
        {
          "output_type": "execute_result",
          "data": {
            "text/plain": [
              "array([12.1867    , 55.61441818, -9.10381818])"
            ]
          },
          "metadata": {},
          "execution_count": 76
        }
      ]
    },
    {
      "cell_type": "code",
      "metadata": {
        "id": "Z5RUU66FYKKM"
      },
      "source": [
        "def f(x, w): \n",
        "    return w[0] + w[1]*x + w[2]*x*x"
      ],
      "execution_count": 77,
      "outputs": []
    },
    {
      "cell_type": "code",
      "metadata": {
        "colab": {
          "base_uri": "https://localhost:8080/"
        },
        "id": "jM1i8gYXYN-e",
        "outputId": "ee165d6f-31d4-4d07-b59b-344182187cd8"
      },
      "source": [
        "f(x, W)"
      ],
      "execution_count": 78,
      "outputs": [
        {
          "output_type": "execute_result",
          "data": {
            "text/plain": [
              "array([12.1867    , 14.5875087 , 16.95389842, 19.28586917, 21.58342095,\n",
              "       23.84655375, 26.07526759, 28.26956245, 30.42943834, 32.55489526,\n",
              "       34.6459332 , 36.70255217, 38.72475217, 40.7125332 , 42.66589526,\n",
              "       44.58483834, 46.46936245, 48.31946759, 50.13515375, 51.91642095,\n",
              "       53.66326917, 55.37569842, 57.0537087 , 58.6973    ])"
            ]
          },
          "metadata": {},
          "execution_count": 78
        }
      ]
    },
    {
      "cell_type": "code",
      "metadata": {
        "colab": {
          "base_uri": "https://localhost:8080/",
          "height": 265
        },
        "id": "AlXjRvNwYRdv",
        "outputId": "da19e482-0540-4209-919c-1bad0a253db1"
      },
      "source": [
        "plt.scatter(x, y, label='train set')\n",
        "plt.plot(x, f(x, W), label='quad lstsq')\n",
        "plt.legend();"
      ],
      "execution_count": 79,
      "outputs": [
        {
          "output_type": "display_data",
          "data": {
            "image/png": "[encoded data removed]",
            "text/plain": [
              "<Figure size 432x288 with 1 Axes>"
            ]
          },
          "metadata": {
            "needs_background": "light"
          }
        }
      ]
    },
    {
      "cell_type": "code",
      "metadata": {
        "id": "VQfkqmWyYWE4"
      },
      "source": [
        "from sklearn.metrics import mean_squared_error"
      ],
      "execution_count": 80,
      "outputs": []
    },
    {
      "cell_type": "code",
      "metadata": {
        "colab": {
          "base_uri": "https://localhost:8080/"
        },
        "id": "sG_LNf_RYYZb",
        "outputId": "fae34732-e656-432a-a6f8-46d99315a7b3"
      },
      "source": [
        "mean_squared_error(y, f(x, W))"
      ],
      "execution_count": 81,
      "outputs": [
        {
          "output_type": "execute_result",
          "data": {
            "text/plain": [
              "212.59353678557315"
            ]
          },
          "metadata": {},
          "execution_count": 81
        }
      ]
    },
    {
      "cell_type": "markdown",
      "metadata": {
        "id": "NTS6PS-JyMUb"
      },
      "source": [
        "Полином третьей степени"
      ]
    },
    {
      "cell_type": "code",
      "metadata": {
        "id": "0yMvVUDhw43P"
      },
      "source": [
        "X = list(zip(np.ones(24), x, x*x, x*x*x))"
      ],
      "execution_count": 82,
      "outputs": []
    },
    {
      "cell_type": "code",
      "metadata": {
        "id": "GG12Knfuw7E4"
      },
      "source": [
        "W = np.linalg.lstsq(X, y, rcond=None)[0]"
      ],
      "execution_count": 83,
      "outputs": []
    },
    {
      "cell_type": "code",
      "metadata": {
        "colab": {
          "base_uri": "https://localhost:8080/"
        },
        "id": "shxkmcNIw9Rg",
        "outputId": "c5056645-d75a-458b-b516-913af6e3aa1f"
      },
      "source": [
        "W"
      ],
      "execution_count": 84,
      "outputs": [
        {
          "output_type": "execute_result",
          "data": {
            "text/plain": [
              "array([   5.65033333,  143.52996465, -233.63225758,  149.68562626])"
            ]
          },
          "metadata": {},
          "execution_count": 84
        }
      ]
    },
    {
      "cell_type": "code",
      "metadata": {
        "id": "YMI1EAeXw-XB"
      },
      "source": [
        "def f(x, w): \n",
        "    return w[0] + w[1]*x + w[2]*x*x + w[3]*x*x*x"
      ],
      "execution_count": 85,
      "outputs": []
    },
    {
      "cell_type": "code",
      "metadata": {
        "colab": {
          "base_uri": "https://localhost:8080/"
        },
        "id": "s0QUozmvxDe5",
        "outputId": "c7beb94d-44a5-4e7b-c91f-173c31b0f775"
      },
      "source": [
        "f(x, W)"
      ],
      "execution_count": 86,
      "outputs": [
        {
          "output_type": "execute_result",
          "data": {
            "text/plain": [
              "array([ 5.65033333, 11.46142029, 16.46302503, 20.72896311, 24.33305007,\n",
              "       27.34910145, 29.85093281, 31.91235968, 33.60719763, 35.00926219,\n",
              "       36.19236891, 37.23033333, 38.19697101, 39.1660975 , 40.21152833,\n",
              "       41.40707905, 42.82656522, 44.54380237, 46.63260606, 49.16679183,\n",
              "       52.22017523, 55.86657181, 60.1797971 , 65.23366667])"
            ]
          },
          "metadata": {},
          "execution_count": 86
        }
      ]
    },
    {
      "cell_type": "code",
      "metadata": {
        "colab": {
          "base_uri": "https://localhost:8080/",
          "height": 265
        },
        "id": "SoCSYeLQxFri",
        "outputId": "0d2d7bb8-f739-40fe-cd2c-d92911204b58"
      },
      "source": [
        "plt.scatter(x, y, label='train set')\n",
        "plt.plot(x, f(x, W), label='quad lstsq')\n",
        "plt.legend();"
      ],
      "execution_count": 87,
      "outputs": [
        {
          "output_type": "display_data",
          "data": {
            "image/png": "[encoded data removed]",
            "text/plain": [
              "<Figure size 432x288 with 1 Axes>"
            ]
          },
          "metadata": {
            "needs_background": "light"
          }
        }
      ]
    },
    {
      "cell_type": "code",
      "metadata": {
        "colab": {
          "base_uri": "https://localhost:8080/"
        },
        "id": "tAmbLdsnxH6c",
        "outputId": "edabea5b-2dad-4a87-91e1-d412b2d7c1a2"
      },
      "source": [
        "mean_squared_error(y, f(x, W))"
      ],
      "execution_count": 88,
      "outputs": [
        {
          "output_type": "execute_result",
          "data": {
            "text/plain": [
              "202.513036590909"
            ]
          },
          "metadata": {},
          "execution_count": 88
        }
      ]
    },
    {
      "cell_type": "markdown",
      "metadata": {
        "id": "EmQSpLZOySCd"
      },
      "source": [
        "Экспонента"
      ]
    },
    {
      "cell_type": "code",
      "metadata": {
        "id": "wwRvzsCcxJWE"
      },
      "source": [
        "X = list(zip(np.ones(24), np.exp(x)))"
      ],
      "execution_count": 89,
      "outputs": []
    },
    {
      "cell_type": "code",
      "metadata": {
        "id": "-AfW-sFPxKpM"
      },
      "source": [
        "W = np.linalg.lstsq(X, y, rcond=None)[0]"
      ],
      "execution_count": 90,
      "outputs": []
    },
    {
      "cell_type": "code",
      "metadata": {
        "colab": {
          "base_uri": "https://localhost:8080/"
        },
        "id": "cwj47uUkxMiF",
        "outputId": "bd3debf5-a0e0-4ba2-a10f-41d14eba16cf"
      },
      "source": [
        "W"
      ],
      "execution_count": 91,
      "outputs": [
        {
          "output_type": "execute_result",
          "data": {
            "text/plain": [
              "array([-9.42279902, 26.85911292])"
            ]
          },
          "metadata": {},
          "execution_count": 91
        }
      ]
    },
    {
      "cell_type": "code",
      "metadata": {
        "id": "fUHbUsH8xNDd"
      },
      "source": [
        "def f(x, w): \n",
        "    return w[0] + w[1]*np.exp(x)"
      ],
      "execution_count": 92,
      "outputs": []
    },
    {
      "cell_type": "code",
      "metadata": {
        "colab": {
          "base_uri": "https://localhost:8080/"
        },
        "id": "2krP5MOHxOie",
        "outputId": "1dd3d03a-328c-40c5-e130-3ac8f66224bc"
      },
      "source": [
        "f(x, W)"
      ],
      "execution_count": 93,
      "outputs": [
        {
          "output_type": "execute_result",
          "data": {
            "text/plain": [
              "array([17.43631391, 18.62986007, 19.87644418, 21.17842312, 22.53825847,\n",
              "       23.95852121, 25.44189658, 26.99118913, 28.60932804, 30.29937266,\n",
              "       32.06451828, 33.90810219, 35.83360996, 37.84468208, 39.9451208 ,\n",
              "       42.13889731, 44.43015931, 46.82323878, 49.32266021, 51.93314915,\n",
              "       54.65964115, 57.50729105, 60.4814828 , 63.58783957])"
            ]
          },
          "metadata": {},
          "execution_count": 93
        }
      ]
    },
    {
      "cell_type": "code",
      "metadata": {
        "colab": {
          "base_uri": "https://localhost:8080/",
          "height": 265
        },
        "id": "EC9cLU-cxRbn",
        "outputId": "cbca3253-5a82-46d1-9089-4e7f4f40717f"
      },
      "source": [
        "plt.scatter(x, y, label='train set')\n",
        "plt.plot(x, f(x, W), label='quad lstsq')\n",
        "plt.legend();"
      ],
      "execution_count": 94,
      "outputs": [
        {
          "output_type": "display_data",
          "data": {
            "image/png": "[encoded data removed]",
            "text/plain": [
              "<Figure size 432x288 with 1 Axes>"
            ]
          },
          "metadata": {
            "needs_background": "light"
          }
        }
      ]
    },
    {
      "cell_type": "code",
      "metadata": {
        "colab": {
          "base_uri": "https://localhost:8080/"
        },
        "id": "6qG6VRZtxUSI",
        "outputId": "e3daf10c-fdad-4a56-db82-df02325147f0"
      },
      "source": [
        "mean_squared_error(y, f(x, W))"
      ],
      "execution_count": 95,
      "outputs": [
        {
          "output_type": "execute_result",
          "data": {
            "text/plain": [
              "218.24309186403494"
            ]
          },
          "metadata": {},
          "execution_count": 95
        }
      ]
    },
    {
      "cell_type": "markdown",
      "metadata": {
        "id": "pVO3uWieyxI3"
      },
      "source": [
        "MSE для полинома второй степени: 212,5\n",
        "\n",
        "MSE для полинома третьей степени: 202,5\n",
        "\n",
        "MSE для экспоненты: 218,2\n",
        "\n",
        "Наилучший вариант полином третьей степени"
      ]
    }
  ]
}